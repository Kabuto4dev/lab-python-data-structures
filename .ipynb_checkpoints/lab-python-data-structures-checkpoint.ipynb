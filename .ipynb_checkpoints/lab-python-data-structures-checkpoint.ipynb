{
 "cells": [
  {
   "cell_type": "markdown",
   "metadata": {
    "tags": []
   },
   "source": [
    "# Lab | Data Structures "
   ]
  },
  {
   "cell_type": "markdown",
   "metadata": {},
   "source": [
    "## Exercise: Managing Customer Orders\n",
    "\n",
    "As part of a business venture, you are starting an online store that sells various products. To ensure smooth operations, you need to develop a program that manages customer orders and inventory.\n",
    "\n",
    "Follow the steps below to complete the exercise:\n",
    "\n",
    "1. Define a list called `products` that contains the following items: \"t-shirt\", \"mug\", \"hat\", \"book\", \"keychain\".\n",
    "\n",
    "2. Create an empty dictionary called `inventory`.\n",
    "\n",
    "3. Ask the user to input the quantity of each product available in the inventory. Use the product names from the `products` list as keys in the `inventory` dictionary and assign the respective quantities as values.\n",
    "\n",
    "4. Create an empty set called `customer_orders`.\n",
    "\n",
    "5. Ask the user to input the name of three products that a customer wants to order (from those in the products list, meaning three products out of \"t-shirt\", \"mug\", \"hat\", \"book\" or \"keychain\". Add each product name to the `customer_orders` set.\n",
    "\n",
    "6. Print the products in the `customer_orders` set.\n",
    "\n",
    "7. Calculate the following order statistics:\n",
    "   - Total Products Ordered: The total number of products in the `customer_orders` set.\n",
    "   - Percentage of Products Ordered: The percentage of products ordered compared to the total available products.\n",
    "   \n",
    "   Store these statistics in a tuple called `order_status`.\n",
    "\n",
    "8. Print the order statistics using the following format:\n",
    "   ```\n",
    "   Order Statistics:\n",
    "   Total Products Ordered: <total_products_ordered>\n",
    "   Percentage of Products Ordered: <percentage_ordered>% \n",
    "   ```\n",
    "\n",
    "9. Update the inventory by subtracting 1 from the quantity of each product. Modify the `inventory` dictionary accordingly.\n",
    "\n",
    "10. Print the updated inventory, displaying the quantity of each product on separate lines.\n",
    "\n",
    "Solve the exercise by implementing the steps using the Python concepts of lists, dictionaries, sets, and basic input/output operations. "
   ]
  },
  {
   "cell_type": "code",
   "execution_count": 1,
   "metadata": {},
   "outputs": [],
   "source": [
    "# Definition of product list and empty dictionary:\n",
    "\n",
    "products = [\"t-shirt\", \"mug\", \"hat\", \"book\", \"keychain\"]\n",
    "inventory = {}"
   ]
  },
  {
   "cell_type": "code",
   "execution_count": 2,
   "metadata": {},
   "outputs": [
    {
     "name": "stdout",
     "output_type": "stream",
     "text": [
      "Please, introduce the quantity of t-shirts: 10\n",
      "Please, introduce the quantity of mugs: 20\n",
      "Please, introduce the quantity of hats: 30\n",
      "Please, introduce the quantity of books: 40\n",
      "Please, introduce the quantity of keychains: 50\n",
      "The inventory is:  {'t-shirt': 10, 'mug': 20, 'hat': 30, 'book': 40, 'keychain': 50}\n"
     ]
    }
   ],
   "source": [
    "# Enter product & quantity:\n",
    "\n",
    "inventory[\"t-shirt\"]= int(input (\"Please, introduce the quantity of t-shirts: \"))\n",
    "inventory[\"mug\"]= int(input (\"Please, introduce the quantity of mugs: \"))\n",
    "inventory[\"hat\"]= int(input (\"Please, introduce the quantity of hats: \"))\n",
    "inventory[\"book\"]= int(input (\"Please, introduce the quantity of books: \"))\n",
    "inventory[\"keychain\"]= int(input (\"Please, introduce the quantity of keychains: \"))\n",
    "\n",
    "print (\"The inventory is: \", inventory)"
   ]
  },
  {
   "cell_type": "code",
   "execution_count": 3,
   "metadata": {},
   "outputs": [],
   "source": [
    "#Create an empty set for Customer orders:\n",
    "\n",
    "customer_orders = set ()"
   ]
  },
  {
   "cell_type": "code",
   "execution_count": 4,
   "metadata": {},
   "outputs": [
    {
     "name": "stdout",
     "output_type": "stream",
     "text": [
      "Please, select your first product to order: t-shirt, mug, hat, book, keychain: mug\n",
      "Please, select your second product: t-shirt, mug, hat, book, keychain: hat\n",
      "Please, select your third product to order: t-shirt, mug, hat, book, keychain: book\n"
     ]
    }
   ],
   "source": [
    "# Ask the user to input the name of three products to order and add to the set:\n",
    "\n",
    "customer_orders.add(input(\"Please, select your first product to order: t-shirt, mug, hat, book, keychain: \"))\n",
    "customer_orders.add(input(\"Please, select your second product: t-shirt, mug, hat, book, keychain: \"))\n",
    "customer_orders.add(input(\"Please, select your third product to order: t-shirt, mug, hat, book, keychain: \"))"
   ]
  },
  {
   "cell_type": "code",
   "execution_count": 5,
   "metadata": {},
   "outputs": [
    {
     "name": "stdout",
     "output_type": "stream",
     "text": [
      "{'hat', 'book', 'mug'}\n"
     ]
    }
   ],
   "source": [
    "# Print the products in the set:\n",
    "\n",
    "print (customer_orders)"
   ]
  },
  {
   "cell_type": "code",
   "execution_count": 6,
   "metadata": {},
   "outputs": [
    {
     "name": "stdout",
     "output_type": "stream",
     "text": [
      "Order Statistics:\n",
      "Total products ordered:  3\n"
     ]
    }
   ],
   "source": [
    "# Statistics:\n",
    "# Total Prod. Ordered:\n",
    "\n",
    "total_prd_ord = len (customer_orders)\n",
    "\n",
    "print (\"Order Statistics:\")\n",
    "print (\"Total products ordered: \", total_prd_ord)"
   ]
  },
  {
   "cell_type": "code",
   "execution_count": 7,
   "metadata": {},
   "outputs": [],
   "source": [
    "# % of products ordered:\n",
    "\n",
    "total_available_prd = len ({\"t-shirt\", \"mug\", \"hat\", \"book\", \"keychain\"}) \n",
    "percentage = (total_prd_ord / total_available_prd)*100"
   ]
  },
  {
   "cell_type": "code",
   "execution_count": 8,
   "metadata": {},
   "outputs": [],
   "source": [
    "# Store statistics in order_status:\n",
    "\n",
    "order_status = (total_prd_ord, percentage)"
   ]
  },
  {
   "cell_type": "code",
   "execution_count": 9,
   "metadata": {},
   "outputs": [
    {
     "name": "stdout",
     "output_type": "stream",
     "text": [
      "Order Statistics:\n",
      "Total Products Ordered: 3\n",
      "Percentage of Products Ordered: 60.0 %\n"
     ]
    }
   ],
   "source": [
    "# Print order statistics:\n",
    "\n",
    "print (\"Order Statistics:\")\n",
    "print (\"Total Products Ordered:\", total_prd_ord)\n",
    "print (\"Percentage of Products Ordered:\", percentage,\"%\")"
   ]
  },
  {
   "cell_type": "code",
   "execution_count": 10,
   "metadata": {},
   "outputs": [
    {
     "name": "stdout",
     "output_type": "stream",
     "text": [
      "Updated quantity of {'t-shirt': 10, 'mug': 19, 'hat': 29, 'book': 39, 'keychain': 50}\n"
     ]
    }
   ],
   "source": [
    "# Subtracting 1 from the quantity of each product:\n",
    "\n",
    "inventory[\"hat\"] -= 1\n",
    "inventory[\"mug\"] -= 1\n",
    "inventory[\"book\"] -= 1\n",
    "\n",
    "\n",
    "# Imprimir el resultado\n",
    "print(\"Updated quantity of\", inventory)"
   ]
  },
  {
   "cell_type": "code",
   "execution_count": 11,
   "metadata": {},
   "outputs": [
    {
     "name": "stdout",
     "output_type": "stream",
     "text": [
      "Updted inventory: {'t-shirt': 10, 'mug': 19, 'hat': 29, 'book': 39, 'keychain': 50}\n",
      "Updted inventory: dict_keys(['t-shirt', 'mug', 'hat', 'book', 'keychain'])\n",
      "Updted inventory: dict_values([10, 19, 29, 39, 50])\n"
     ]
    }
   ],
   "source": [
    "# Print the updated inventory:\n",
    "\n",
    "print (\"Updted inventory:\", inventory)\n",
    "print (\"Updted inventory:\", inventory.keys())\n",
    "print (\"Updted inventory:\", inventory.values())"
   ]
  },
  {
   "cell_type": "code",
   "execution_count": null,
   "metadata": {},
   "outputs": [],
   "source": []
  }
 ],
 "metadata": {
  "kernelspec": {
   "display_name": "Python 3 (ipykernel)",
   "language": "python",
   "name": "python3"
  },
  "language_info": {
   "codemirror_mode": {
    "name": "ipython",
    "version": 3
   },
   "file_extension": ".py",
   "mimetype": "text/x-python",
   "name": "python",
   "nbconvert_exporter": "python",
   "pygments_lexer": "ipython3",
   "version": "3.9.7"
  }
 },
 "nbformat": 4,
 "nbformat_minor": 4
}
